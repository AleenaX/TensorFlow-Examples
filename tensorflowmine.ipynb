{
  "nbformat": 4,
  "nbformat_minor": 0,
  "metadata": {
    "colab": {
      "name": "Untitled0.ipynb",
      "version": "0.3.2",
      "provenance": [],
      "include_colab_link": true
    },
    "kernelspec": {
      "name": "python3",
      "display_name": "Python 3"
    },
    "accelerator": "GPU"
  },
  "cells": [
    {
      "cell_type": "markdown",
      "metadata": {
        "id": "view-in-github",
        "colab_type": "text"
      },
      "source": [
        "<a href=\"https://colab.research.google.com/github/AleenaX/TensorFlow-Examples/blob/master/tensorflowmine.ipynb\" target=\"_parent\"><img src=\"https://colab.research.google.com/assets/colab-badge.svg\" alt=\"Open In Colab\"/></a>"
      ]
    },
    {
      "metadata": {
        "id": "H9Vu7fLf_Tof",
        "colab_type": "code",
        "colab": {}
      },
      "cell_type": "code",
      "source": [
        "import tensorflow as tf"
      ],
      "execution_count": 0,
      "outputs": []
    },
    {
      "metadata": {
        "id": "goBGq_PNABxF",
        "colab_type": "code",
        "colab": {
          "base_uri": "https://localhost:8080/",
          "height": 34
        },
        "outputId": "b2b153db-80ba-46cc-f75f-a45507e24d50"
      },
      "cell_type": "code",
      "source": [
        "g=tf.get_default_graph()\n",
        "g"
      ],
      "execution_count": 2,
      "outputs": [
        {
          "output_type": "execute_result",
          "data": {
            "text/plain": [
              "<tensorflow.python.framework.ops.Graph at 0x7f383d8689e8>"
            ]
          },
          "metadata": {
            "tags": []
          },
          "execution_count": 2
        }
      ]
    },
    {
      "metadata": {
        "id": "FDDL1s7MAD5u",
        "colab_type": "code",
        "colab": {
          "base_uri": "https://localhost:8080/",
          "height": 34
        },
        "outputId": "adb06308-fdb7-4adf-bb22-2fa5d59f6d7b"
      },
      "cell_type": "code",
      "source": [
        "g.get_operations()"
      ],
      "execution_count": 3,
      "outputs": [
        {
          "output_type": "execute_result",
          "data": {
            "text/plain": [
              "[]"
            ]
          },
          "metadata": {
            "tags": []
          },
          "execution_count": 3
        }
      ]
    },
    {
      "metadata": {
        "id": "d4NHviOTApje",
        "colab_type": "code",
        "colab": {
          "base_uri": "https://localhost:8080/",
          "height": 34
        },
        "outputId": "617bc840-661e-440c-cafa-d9e734f549dd"
      },
      "cell_type": "code",
      "source": [
        "tf.constant(3.14)\n",
        "g.get_operations()"
      ],
      "execution_count": 4,
      "outputs": [
        {
          "output_type": "execute_result",
          "data": {
            "text/plain": [
              "[<tf.Operation 'Const' type=Const>]"
            ]
          },
          "metadata": {
            "tags": []
          },
          "execution_count": 4
        }
      ]
    },
    {
      "metadata": {
        "id": "BrX4xXgCBH-n",
        "colab_type": "code",
        "colab": {
          "base_uri": "https://localhost:8080/",
          "height": 34
        },
        "outputId": "c26944a0-57c4-4f07-c3dd-1ea39aa70eb4"
      },
      "cell_type": "code",
      "source": [
        "const_operation=g.get_operations()[0]\n",
        "len(const_operation.inputs),len(const_operation.outputs)"
      ],
      "execution_count": 5,
      "outputs": [
        {
          "output_type": "execute_result",
          "data": {
            "text/plain": [
              "(0, 1)"
            ]
          },
          "metadata": {
            "tags": []
          },
          "execution_count": 5
        }
      ]
    },
    {
      "metadata": {
        "id": "b0wdvci-CR8v",
        "colab_type": "code",
        "colab": {
          "base_uri": "https://localhost:8080/",
          "height": 34
        },
        "outputId": "f5cb4ab6-9da3-4664-a4c1-fba3f72c5eba"
      },
      "cell_type": "code",
      "source": [
        "const_tensor=const_operation.outputs[0]\n",
        "const_tensor"
      ],
      "execution_count": 6,
      "outputs": [
        {
          "output_type": "execute_result",
          "data": {
            "text/plain": [
              "<tf.Tensor 'Const:0' shape=() dtype=float32>"
            ]
          },
          "metadata": {
            "tags": []
          },
          "execution_count": 6
        }
      ]
    },
    {
      "metadata": {
        "id": "aliHS6h-DFEW",
        "colab_type": "code",
        "colab": {
          "base_uri": "https://localhost:8080/",
          "height": 34
        },
        "outputId": "1095c959-6620-4002-e602-8e5a3950a462"
      },
      "cell_type": "code",
      "source": [
        "another_const_tensor=tf.constant(1.414)\n",
        "another_const_tensor"
      ],
      "execution_count": 7,
      "outputs": [
        {
          "output_type": "execute_result",
          "data": {
            "text/plain": [
              "<tf.Tensor 'Const_1:0' shape=() dtype=float32>"
            ]
          },
          "metadata": {
            "tags": []
          },
          "execution_count": 7
        }
      ]
    },
    {
      "metadata": {
        "id": "XoyVXK3RDRS4",
        "colab_type": "code",
        "colab": {
          "base_uri": "https://localhost:8080/",
          "height": 34
        },
        "outputId": "0f32fc33-b45f-444c-c9b4-ac3359fa2592"
      },
      "cell_type": "code",
      "source": [
        "g.get_operations()"
      ],
      "execution_count": 8,
      "outputs": [
        {
          "output_type": "execute_result",
          "data": {
            "text/plain": [
              "[<tf.Operation 'Const' type=Const>, <tf.Operation 'Const_1' type=Const>]"
            ]
          },
          "metadata": {
            "tags": []
          },
          "execution_count": 8
        }
      ]
    },
    {
      "metadata": {
        "id": "aL00PLqrDyFd",
        "colab_type": "code",
        "colab": {
          "base_uri": "https://localhost:8080/",
          "height": 34
        },
        "outputId": "5d7fa56a-3a99-4069-91e9-d391c0c107e9"
      },
      "cell_type": "code",
      "source": [
        "sum_tensor=tf.add(const_tensor,another_const_tensor)\n",
        "sum_tensor"
      ],
      "execution_count": 9,
      "outputs": [
        {
          "output_type": "execute_result",
          "data": {
            "text/plain": [
              "<tf.Tensor 'Add:0' shape=() dtype=float32>"
            ]
          },
          "metadata": {
            "tags": []
          },
          "execution_count": 9
        }
      ]
    },
    {
      "metadata": {
        "id": "SL8H9YhRD81g",
        "colab_type": "code",
        "colab": {
          "base_uri": "https://localhost:8080/",
          "height": 69
        },
        "outputId": "9baa65d6-1759-49ac-f7f0-ebea828bd2bc"
      },
      "cell_type": "code",
      "source": [
        "g.get_operations()"
      ],
      "execution_count": 10,
      "outputs": [
        {
          "output_type": "execute_result",
          "data": {
            "text/plain": [
              "[<tf.Operation 'Const' type=Const>,\n",
              " <tf.Operation 'Const_1' type=Const>,\n",
              " <tf.Operation 'Add' type=Add>]"
            ]
          },
          "metadata": {
            "tags": []
          },
          "execution_count": 10
        }
      ]
    },
    {
      "metadata": {
        "id": "_52rPAf6EXD-",
        "colab_type": "code",
        "colab": {
          "base_uri": "https://localhost:8080/",
          "height": 34
        },
        "outputId": "1e7e2959-7fee-4400-dec5-ca8b0e7ebd46"
      },
      "cell_type": "code",
      "source": [
        "add_op=g.get_operations()[2]\n",
        "len(add_op.inputs),len(add_op.outputs)"
      ],
      "execution_count": 11,
      "outputs": [
        {
          "output_type": "execute_result",
          "data": {
            "text/plain": [
              "(2, 1)"
            ]
          },
          "metadata": {
            "tags": []
          },
          "execution_count": 11
        }
      ]
    },
    {
      "metadata": {
        "id": "UUP8-iDHEpw3",
        "colab_type": "code",
        "colab": {}
      },
      "cell_type": "code",
      "source": [
        "sess=tf.Session()"
      ],
      "execution_count": 0,
      "outputs": []
    },
    {
      "metadata": {
        "id": "HdhsGpM_8YRA",
        "colab_type": "code",
        "colab": {
          "base_uri": "https://localhost:8080/",
          "height": 34
        },
        "outputId": "37c8efd6-5766-45b3-d76a-620b961377f0"
      },
      "cell_type": "code",
      "source": [
        "sess.graph==g"
      ],
      "execution_count": 13,
      "outputs": [
        {
          "output_type": "execute_result",
          "data": {
            "text/plain": [
              "True"
            ]
          },
          "metadata": {
            "tags": []
          },
          "execution_count": 13
        }
      ]
    },
    {
      "metadata": {
        "id": "mceY7SVy8qC7",
        "colab_type": "code",
        "colab": {
          "base_uri": "https://localhost:8080/",
          "height": 34
        },
        "outputId": "e124107a-07ea-4017-f40e-298e9c6675d1"
      },
      "cell_type": "code",
      "source": [
        "sess.run(sum_tensor),sess.run(const_tensor),sess.run(another_const_tensor)"
      ],
      "execution_count": 14,
      "outputs": [
        {
          "output_type": "execute_result",
          "data": {
            "text/plain": [
              "(4.554, 3.14, 1.414)"
            ]
          },
          "metadata": {
            "tags": []
          },
          "execution_count": 14
        }
      ]
    },
    {
      "metadata": {
        "id": "EjrW4Kpg9w0r",
        "colab_type": "code",
        "colab": {
          "base_uri": "https://localhost:8080/",
          "height": 34
        },
        "outputId": "ddb82d16-5afb-4b8d-9c5d-9d210a573152"
      },
      "cell_type": "code",
      "source": [
        "sess.run([sum_tensor,const_tensor,another_const_tensor])"
      ],
      "execution_count": 15,
      "outputs": [
        {
          "output_type": "execute_result",
          "data": {
            "text/plain": [
              "[4.554, 3.14, 1.414]"
            ]
          },
          "metadata": {
            "tags": []
          },
          "execution_count": 15
        }
      ]
    },
    {
      "metadata": {
        "id": "i4BeSQF299xy",
        "colab_type": "code",
        "colab": {
          "base_uri": "https://localhost:8080/",
          "height": 34
        },
        "outputId": "bef5d63b-818b-45cf-9445-4365eaad67e9"
      },
      "cell_type": "code",
      "source": [
        "sess.run({'a':const_tensor,'b':another_const_tensor,'[a,b,a+b]':[const_tensor,another_const_tensor,sum_tensor]})"
      ],
      "execution_count": 16,
      "outputs": [
        {
          "output_type": "execute_result",
          "data": {
            "text/plain": [
              "{'[a,b,a+b]': [3.14, 1.414, 4.554], 'a': 3.14, 'b': 1.414}"
            ]
          },
          "metadata": {
            "tags": []
          },
          "execution_count": 16
        }
      ]
    },
    {
      "metadata": {
        "id": "-gaV55SL-via",
        "colab_type": "code",
        "colab": {}
      },
      "cell_type": "code",
      "source": [
        "sess.close()"
      ],
      "execution_count": 0,
      "outputs": []
    },
    {
      "metadata": {
        "id": "OBuiEj-u-7fS",
        "colab_type": "code",
        "colab": {
          "base_uri": "https://localhost:8080/",
          "height": 34
        },
        "outputId": "52b1cd31-65ea-4e44-a4a2-435fcc069d94"
      },
      "cell_type": "code",
      "source": [
        "a=tf.placeholder(tf.float32)\n",
        "a"
      ],
      "execution_count": 18,
      "outputs": [
        {
          "output_type": "execute_result",
          "data": {
            "text/plain": [
              "<tf.Tensor 'Placeholder:0' shape=<unknown> dtype=float32>"
            ]
          },
          "metadata": {
            "tags": []
          },
          "execution_count": 18
        }
      ]
    },
    {
      "metadata": {
        "id": "oLA7ejJw_OzW",
        "colab_type": "code",
        "colab": {
          "base_uri": "https://localhost:8080/",
          "height": 121
        },
        "outputId": "1c64b8f8-eb83-48fe-ea6f-29fce828c822"
      },
      "cell_type": "code",
      "source": [
        "b=tf.placeholder(tf.float32)\n",
        "\n",
        "flexible_sum_tensor=tf.add(a,b)\n",
        "g.get_operations()"
      ],
      "execution_count": 19,
      "outputs": [
        {
          "output_type": "execute_result",
          "data": {
            "text/plain": [
              "[<tf.Operation 'Const' type=Const>,\n",
              " <tf.Operation 'Const_1' type=Const>,\n",
              " <tf.Operation 'Add' type=Add>,\n",
              " <tf.Operation 'Placeholder' type=Placeholder>,\n",
              " <tf.Operation 'Placeholder_1' type=Placeholder>,\n",
              " <tf.Operation 'Add_1' type=Add>]"
            ]
          },
          "metadata": {
            "tags": []
          },
          "execution_count": 19
        }
      ]
    },
    {
      "metadata": {
        "id": "Cw_ER7kX_9B5",
        "colab_type": "code",
        "colab": {}
      },
      "cell_type": "code",
      "source": [
        "sess=tf.Session()"
      ],
      "execution_count": 0,
      "outputs": []
    },
    {
      "metadata": {
        "id": "1TBiqCuqASOE",
        "colab_type": "code",
        "colab": {
          "base_uri": "https://localhost:8080/",
          "height": 34
        },
        "outputId": "fd3c6dd4-346e-436b-ff56-8ecc9f03d626"
      },
      "cell_type": "code",
      "source": [
        "sess.run(flexible_sum_tensor,feed_dict={a:[1,2],b:[3,4]})"
      ],
      "execution_count": 24,
      "outputs": [
        {
          "output_type": "execute_result",
          "data": {
            "text/plain": [
              "array([4., 6.], dtype=float32)"
            ]
          },
          "metadata": {
            "tags": []
          },
          "execution_count": 24
        }
      ]
    },
    {
      "metadata": {
        "id": "QuYlfpGeCBqN",
        "colab_type": "code",
        "colab": {}
      },
      "cell_type": "code",
      "source": [
        "distance_from_orgin=tf.sqrt((a*a)+(b*b))"
      ],
      "execution_count": 0,
      "outputs": []
    },
    {
      "metadata": {
        "id": "HXocI0g_CQpK",
        "colab_type": "code",
        "colab": {
          "base_uri": "https://localhost:8080/",
          "height": 191
        },
        "outputId": "aa639ca4-5cfe-4281-ba2c-f72a71b02b57"
      },
      "cell_type": "code",
      "source": [
        "g.get_operations()"
      ],
      "execution_count": 26,
      "outputs": [
        {
          "output_type": "execute_result",
          "data": {
            "text/plain": [
              "[<tf.Operation 'Const' type=Const>,\n",
              " <tf.Operation 'Const_1' type=Const>,\n",
              " <tf.Operation 'Add' type=Add>,\n",
              " <tf.Operation 'Placeholder' type=Placeholder>,\n",
              " <tf.Operation 'Placeholder_1' type=Placeholder>,\n",
              " <tf.Operation 'Add_1' type=Add>,\n",
              " <tf.Operation 'mul' type=Mul>,\n",
              " <tf.Operation 'mul_1' type=Mul>,\n",
              " <tf.Operation 'add_2' type=Add>,\n",
              " <tf.Operation 'Sqrt' type=Sqrt>]"
            ]
          },
          "metadata": {
            "tags": []
          },
          "execution_count": 26
        }
      ]
    },
    {
      "metadata": {
        "id": "eeT8TdHCCwlD",
        "colab_type": "code",
        "colab": {
          "base_uri": "https://localhost:8080/",
          "height": 34
        },
        "outputId": "61fab588-fd91-48de-c7a8-f8b46d497f8f"
      },
      "cell_type": "code",
      "source": [
        "sess.run(distance_from_orgin,feed_dict={a:3,b:4})"
      ],
      "execution_count": 31,
      "outputs": [
        {
          "output_type": "execute_result",
          "data": {
            "text/plain": [
              "5.0"
            ]
          },
          "metadata": {
            "tags": []
          },
          "execution_count": 31
        }
      ]
    },
    {
      "metadata": {
        "id": "22VolWehDkn6",
        "colab_type": "code",
        "colab": {}
      },
      "cell_type": "code",
      "source": [
        "sess.close()"
      ],
      "execution_count": 0,
      "outputs": []
    },
    {
      "metadata": {
        "id": "a5xy0RvTD3gt",
        "colab_type": "code",
        "colab": {
          "base_uri": "https://localhost:8080/",
          "height": 34
        },
        "outputId": "beffb4c5-724f-4955-abaf-e7f3bdc3ea37"
      },
      "cell_type": "code",
      "source": [
        "with tf.Session()as sess:\n",
        "  print(sess.run(distance_from_orgin,feed_dict={a:3,b:4}))"
      ],
      "execution_count": 33,
      "outputs": [
        {
          "output_type": "stream",
          "text": [
            "5.0\n"
          ],
          "name": "stdout"
        }
      ]
    },
    {
      "metadata": {
        "id": "dWBm-p2jEIDj",
        "colab_type": "code",
        "colab": {
          "base_uri": "https://localhost:8080/",
          "height": 191
        },
        "outputId": "ae968074-20ae-4485-ed35-be8d762c8b2f"
      },
      "cell_type": "code",
      "source": [
        "g.get_operations()\n"
      ],
      "execution_count": 34,
      "outputs": [
        {
          "output_type": "execute_result",
          "data": {
            "text/plain": [
              "[<tf.Operation 'Const' type=Const>,\n",
              " <tf.Operation 'Const_1' type=Const>,\n",
              " <tf.Operation 'Add' type=Add>,\n",
              " <tf.Operation 'Placeholder' type=Placeholder>,\n",
              " <tf.Operation 'Placeholder_1' type=Placeholder>,\n",
              " <tf.Operation 'Add_1' type=Add>,\n",
              " <tf.Operation 'mul' type=Mul>,\n",
              " <tf.Operation 'mul_1' type=Mul>,\n",
              " <tf.Operation 'add_2' type=Add>,\n",
              " <tf.Operation 'Sqrt' type=Sqrt>]"
            ]
          },
          "metadata": {
            "tags": []
          },
          "execution_count": 34
        }
      ]
    },
    {
      "metadata": {
        "id": "FZReaXS_EMt1",
        "colab_type": "code",
        "colab": {
          "base_uri": "https://localhost:8080/",
          "height": 34
        },
        "outputId": "e3c357d1-f2e6-49b6-f8df-65e74c06133d"
      },
      "cell_type": "code",
      "source": [
        "g=tf.get_default_graph()\n",
        "g.get_operations()"
      ],
      "execution_count": 38,
      "outputs": [
        {
          "output_type": "execute_result",
          "data": {
            "text/plain": [
              "[]"
            ]
          },
          "metadata": {
            "tags": []
          },
          "execution_count": 38
        }
      ]
    }
  ]
}